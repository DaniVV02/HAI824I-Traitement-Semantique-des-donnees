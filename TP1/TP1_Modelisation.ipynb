{
 "cells": [
  {
   "cell_type": "markdown",
   "id": "f5b9c644-c524-4b29-b970-69cb7a7e9761",
   "metadata": {
    "id": "f5b9c644-c524-4b29-b970-69cb7a7e9761"
   },
   "source": [
    "# TP1 : Modélisation Sémantique des données\n",
    "\n",
    "\n",
    " ***Gaoussou SANOU et Konstantin TODOROV***"
   ]
  },
  {
   "cell_type": "code",
   "execution_count": 1,
   "id": "612a71e7-1d1f-44d7-bcca-106a9306c029",
   "metadata": {
    "id": "612a71e7-1d1f-44d7-bcca-106a9306c029"
   },
   "outputs": [
    {
     "ename": "ModuleNotFoundError",
     "evalue": "No module named 'rdflib'",
     "output_type": "error",
     "traceback": [
      "\u001b[0;31m---------------------------------------------------------------------------\u001b[0m",
      "\u001b[0;31mModuleNotFoundError\u001b[0m                       Traceback (most recent call last)",
      "Cell \u001b[0;32mIn[1], line 1\u001b[0m\n\u001b[0;32m----> 1\u001b[0m \u001b[38;5;28;01mfrom\u001b[39;00m\u001b[38;5;250m \u001b[39m\u001b[38;5;21;01mrdflib\u001b[39;00m\u001b[38;5;250m \u001b[39m\u001b[38;5;28;01mimport\u001b[39;00m Graph, URIRef, Literal, BNode\n\u001b[1;32m      2\u001b[0m \u001b[38;5;28;01mfrom\u001b[39;00m\u001b[38;5;250m \u001b[39m\u001b[38;5;21;01mrdflib\u001b[39;00m\u001b[38;5;21;01m.\u001b[39;00m\u001b[38;5;21;01mnamespace\u001b[39;00m\u001b[38;5;250m \u001b[39m\u001b[38;5;28;01mimport\u001b[39;00m FOAF, RDF, RDFS, OWL, XSD\n\u001b[1;32m      4\u001b[0m namespace \u001b[38;5;241m=\u001b[39m \u001b[38;5;124m\"\u001b[39m\u001b[38;5;124mhttp://mygraph.com/\u001b[39m\u001b[38;5;124m\"\u001b[39m\n",
      "\u001b[0;31mModuleNotFoundError\u001b[0m: No module named 'rdflib'"
     ]
    }
   ],
   "source": [
    "from rdflib import Graph, URIRef, Literal, BNode\n",
    "from rdflib.namespace import FOAF, RDF, RDFS, OWL, XSD\n",
    "\n",
    "namespace = \"http://mygraph.com/\"\n",
    "dbpedia = \"http://dbpedia.org/ontology/\"\n",
    "foaf = \"http://xmlns.com/foaf/0.1/\"\n",
    "kzk = \"http://www.kanzaki.com/ns/music#\"\n",
    "schema = \"http://schema.org/\"\n",
    "%reload_ext lab_black"
   ]
  },
  {
   "cell_type": "markdown",
   "id": "3e3f5f97-0678-4360-9954-bcbaca2a91ba",
   "metadata": {
    "id": "3e3f5f97-0678-4360-9954-bcbaca2a91ba"
   },
   "source": [
    "Wolfgang Amadeus Mozart, né à Salzbourg le 27 janvier 1756, mort à Vienne, la capitale autrichienne, le 5 décembre 1791, est un compositeur.\n",
    "Il est fils de Léopold Mozart et était marié à Constance Weber. Parmi ses œuvres les plus célèbres, on trouve l'opéra “La flûte enchantée” et la 41 Symphonie en ut majeur, dite “Jupiter”.\n",
    "Cette symphonie est composée de 4 parties : 1. Allegro Vivace, 2. Andante Cantabile, 3. Menuetto, 4. Molto Allegro. Elle a été enregistrée par l'orchestre symphonique de Londres sous la direction de Claudio Abbado en 1980.\n",
    "\n",
    "Extraire manuellement les connaissances exprimées dans ce texte : penser aux entités (personnes, œuvres, lieux, etc.), aux relations entre ces entités (« fils », « compositeur », « capitale », etc.) et à leur caractéristiques (l’œuvre « Jupiter »; est dans le genre “symphonie”, etc.). Présenter cela sous la forme d'une table. https://lov.linkeddata.es/"
   ]
  },
  {
   "cell_type": "markdown",
   "id": "9b2c1eb6-66bf-4b99-9863-7b536fd8df3b",
   "metadata": {
    "id": "9b2c1eb6-66bf-4b99-9863-7b536fd8df3b"
   },
   "source": [
    "### Concepts"
   ]
  },
  {
   "cell_type": "code",
   "execution_count": null,
   "id": "44d2749c-a70f-43ed-a19d-a34b537714a4",
   "metadata": {
    "id": "44d2749c-a70f-43ed-a19d-a34b537714a4"
   },
   "outputs": [],
   "source": [
    "location = URIRef(f\"https://w3id.org/dpv#Location\")\n",
    "artwork = URIRef(f\"{dbpedia}Artwork\")\n",
    "country = URIRef(f\"{dbpedia}Country\")\n",
    "town = URIRef(f\"{dbpedia}Town\")\n",
    "hometown = URIRef(f\"{dbpedia}hometown\")\n",
    "compositeur = URIRef(f\"{kzk}music#Composer\")"
   ]
  },
  {
   "cell_type": "markdown",
   "id": "4143f893-62e7-4773-88d1-469acda89315",
   "metadata": {
    "id": "4143f893-62e7-4773-88d1-469acda89315"
   },
   "source": [
    "### Relations"
   ]
  },
  {
   "cell_type": "code",
   "execution_count": null,
   "id": "d5ccd36c-ad34-4152-a65c-4c9836672456",
   "metadata": {
    "id": "d5ccd36c-ad34-4152-a65c-4c9836672456"
   },
   "outputs": [],
   "source": [
    "isDead = URIRef(f\"{namespace}isDead\")\n",
    "isborn = URIRef(f\"{kzk}whois#born\")\n",
    "hascapital = URIRef(f\"{dbpedia}capital\")\n",
    "birthplace = URIRef(f\"http://schema.org/birthPlace\")\n",
    "deadplace = URIRef(f\"{schema}deathPlace\")\n",
    "hasspouse = URIRef(f\"{dbpedia}spouse\")\n",
    "sonOf = URIRef(f\"http://sparql.cwrc.ca/ontologies/cwrc#sonOf\")\n",
    "hasPart = URIRef(f\"{schema}hasPart\")\n",
    "direct_by = URIRef(f\"http://vocab.getty.edu/ontology#ulan2575_directed_by\")\n",
    "birthdate = URIRef(f\"{dbpedia}birthDate\")\n",
    "deaddate = URIRef(f\"{dbpedia}deathDate\")\n",
    "created = URIRef(f\"http://purl.org/dc/terms/created\")"
   ]
  },
  {
   "cell_type": "markdown",
   "id": "ed17b869-ba3e-4071-b39f-ccc4988c180c",
   "metadata": {
    "id": "ed17b869-ba3e-4071-b39f-ccc4988c180c"
   },
   "source": [
    "### Utilitary functions to inject knowledge"
   ]
  },
  {
   "cell_type": "code",
   "execution_count": null,
   "id": "96e2107e-016e-47e1-a961-e92ee96ef662",
   "metadata": {
    "id": "96e2107e-016e-47e1-a961-e92ee96ef662"
   },
   "outputs": [],
   "source": [
    "def addInstance(instance, concept, kg):\n",
    "    kg.add(triple=(instance, RDF.type, concept))\n",
    "\n",
    "\n",
    "def addLabel(entity, label, kg):\n",
    "    kg.add(triple=(entity, RDFS.label, Literal(label, datatype=XSD.string)))\n",
    "\n",
    "\n",
    "def linkInstances(sub, rel, obj, kg):\n",
    "    kg.add(triple=(sub, rel, obj))\n",
    "\n",
    "\n",
    "def addDataproperty(sub, rel, obj, kg):\n",
    "    kg.add(triple=(sub, rel, obj))"
   ]
  },
  {
   "cell_type": "markdown",
   "id": "ab99b818-dbde-4ccb-a47f-ab56c4090830",
   "metadata": {
    "id": "ab99b818-dbde-4ccb-a47f-ab56c4090830"
   },
   "source": [
    "### KG Creation"
   ]
  },
  {
   "cell_type": "code",
   "execution_count": null,
   "id": "a8f14d96-95fc-4818-97fc-801182757389",
   "metadata": {
    "id": "a8f14d96-95fc-4818-97fc-801182757389"
   },
   "outputs": [],
   "source": [
    "## creation of the kg\n",
    "kg = Graph()"
   ]
  },
  {
   "cell_type": "markdown",
   "id": "324a1dba-7d65-4824-bdf6-ba0aabdb0c37",
   "metadata": {
    "id": "324a1dba-7d65-4824-bdf6-ba0aabdb0c37"
   },
   "source": [
    "#### Person"
   ]
  },
  {
   "cell_type": "code",
   "execution_count": null,
   "id": "b5ccd9d4-3bae-4414-a9bd-e2309fec9573",
   "metadata": {
    "id": "b5ccd9d4-3bae-4414-a9bd-e2309fec9573"
   },
   "outputs": [],
   "source": [
    "persons = [\n",
    "    \"Wolfgang Amadeus Mozart\",\n",
    "    \"Leopold Mozart\",\n",
    "    \"Constance Weber\",\n",
    "    \"Claudio Ebbado\",\n",
    "]\n",
    "\n",
    "\n",
    "for p in persons:\n",
    "    p_formated = \"\".join(p.split(\" \"))\n",
    "    addInstance(instance=URIRef(f\"{namespace}{p_formated}\"), concept=FOAF.Person, kg=kg)\n",
    "    addLabel(entity=URIRef(f\"{namespace}{p_formated}\"), label=p, kg=kg)\n",
    "    if \"Wolfgang\" in p:\n",
    "        addInstance(\n",
    "            instance=URIRef(f\"{namespace}{p_formated}\"), concept=compositeur, kg=kg\n",
    "        )"
   ]
  },
  {
   "cell_type": "markdown",
   "id": "514638fb-81c2-4bf8-bc72-59aea9bacf0f",
   "metadata": {
    "id": "514638fb-81c2-4bf8-bc72-59aea9bacf0f"
   },
   "source": [
    "#### Locations"
   ]
  },
  {
   "cell_type": "code",
   "execution_count": null,
   "id": "9f9a8813-3c5f-478d-8736-b97a0fbfbd0d",
   "metadata": {
    "id": "9f9a8813-3c5f-478d-8736-b97a0fbfbd0d"
   },
   "outputs": [],
   "source": [
    "towns = [\"Londres\", \"Salzbourg\", \"Vienne\"]\n",
    "for t in towns:\n",
    "    t_formated = \"\".join(t.split(\" \"))\n",
    "    addInstance(instance=URIRef(f\"{namespace}{t_formated}\"), concept=town, kg=kg)\n",
    "    addLabel(entity=URIRef(f\"{namespace}{t_formated}\"), label=t, kg=kg)\n",
    "\n",
    "##country\n",
    "addInstance(instance=URIRef(f\"{namespace}Autriche\"), concept=country, kg=kg)\n",
    "addLabel(entity=URIRef(f\"{namespace}Autriche\"), label=(\"Autriche\"), kg=kg)"
   ]
  },
  {
   "cell_type": "markdown",
   "id": "bdedfd70-e014-4e1a-b4ec-d9414e143746",
   "metadata": {
    "id": "bdedfd70-e014-4e1a-b4ec-d9414e143746"
   },
   "source": [
    "#### Artwork"
   ]
  },
  {
   "cell_type": "code",
   "execution_count": null,
   "id": "fb464c6c-44fd-46f6-a3c6-187a5ea6b371",
   "metadata": {
    "id": "fb464c6c-44fd-46f6-a3c6-187a5ea6b371"
   },
   "outputs": [],
   "source": [
    "artworks = [\n",
    "    \"La Flute Enchantee\",\n",
    "    \"Jupiter\",\n",
    "    \"Allegro Vivace\",\n",
    "    \"Andante Cantabile\",\n",
    "    \"Menuetto\",\n",
    "    \"Molto Allegro\",\n",
    "]\n",
    "\n",
    "for art in artworks:\n",
    "    art_formated = \"\".join(art.split(\" \"))\n",
    "    addInstance(instance=URIRef(f\"{namespace}{art_formated}\"), concept=artwork, kg=kg)\n",
    "    addLabel(entity=URIRef(f\"{namespace}{art_formated}\"), label=art, kg=kg)"
   ]
  },
  {
   "cell_type": "markdown",
   "id": "203e8d39-1ceb-4974-ac3f-5a9e9210c842",
   "metadata": {
    "id": "203e8d39-1ceb-4974-ac3f-5a9e9210c842"
   },
   "source": [
    "#### Related to Mozard"
   ]
  },
  {
   "cell_type": "code",
   "execution_count": null,
   "id": "c2cfff20-67db-4612-9097-3f0003be92d0",
   "metadata": {
    "id": "c2cfff20-67db-4612-9097-3f0003be92d0"
   },
   "outputs": [],
   "source": [
    "mozard = URIRef(f\"{namespace}WolfgangAmadeusMozart\")\n",
    "linkInstances(\n",
    "    sub=mozard,\n",
    "    rel=hasspouse,\n",
    "    obj=URIRef(f\"{namespace}ConstanceWeber\"),\n",
    "    kg=kg,\n",
    ")\n",
    "\n",
    "linkInstances(\n",
    "    sub=mozard,\n",
    "    rel=sonOf,\n",
    "    obj=URIRef(f\"{namespace}LeopoldMozart\"),\n",
    "    kg=kg,\n",
    ")"
   ]
  },
  {
   "cell_type": "markdown",
   "id": "b0dd8d5a-9b1d-4fd2-b744-7e79f4e8383f",
   "metadata": {
    "id": "b0dd8d5a-9b1d-4fd2-b744-7e79f4e8383f"
   },
   "source": [
    "#### Birth"
   ]
  },
  {
   "cell_type": "code",
   "execution_count": null,
   "id": "41e8bce2-d17a-4778-955d-c7e4df00f5de",
   "metadata": {
    "id": "41e8bce2-d17a-4778-955d-c7e4df00f5de"
   },
   "outputs": [],
   "source": [
    "bn_bornlocation = BNode(value=\"#bornlocation\")\n",
    "linkInstances(sub=mozard, rel=isborn, obj=bn_bornlocation, kg=kg)\n",
    "\n",
    "addDataproperty(\n",
    "    sub=bn_bornlocation,\n",
    "    rel=birthdate,\n",
    "    obj=Literal(\"1756-01-27\", datatype=XSD.date),\n",
    "    kg=kg,\n",
    ")\n",
    "\n",
    "linkInstances(\n",
    "    sub=bn_bornlocation,\n",
    "    rel=birthplace,\n",
    "    obj=URIRef(f\"{namespace}Salzbourg\"),\n",
    "    kg=kg,\n",
    ")"
   ]
  },
  {
   "cell_type": "markdown",
   "id": "b8a1f155-0bdc-4601-a65f-cf62c19e8383",
   "metadata": {
    "id": "b8a1f155-0bdc-4601-a65f-cf62c19e8383"
   },
   "source": [
    "#### Death"
   ]
  },
  {
   "cell_type": "code",
   "execution_count": null,
   "id": "b3b3846f-5245-4fc5-86b5-7b33b51bd01b",
   "metadata": {
    "id": "b3b3846f-5245-4fc5-86b5-7b33b51bd01b"
   },
   "outputs": [],
   "source": [
    "bn_deadlocation = BNode(value=\"#deadlocation\")\n",
    "linkInstances(sub=mozard, rel=isDead, obj=bn_deadlocation, kg=kg)\n",
    "\n",
    "addDataproperty(\n",
    "    sub=bn_deadlocation,\n",
    "    rel=deaddate,\n",
    "    obj=Literal(\"1791-12-27\", datatype=XSD.date),\n",
    "    kg=kg,\n",
    ")\n",
    "\n",
    "linkInstances(\n",
    "    sub=bn_deadlocation,\n",
    "    rel=deadplace,\n",
    "    obj=URIRef(f\"{namespace}Vienne\"),\n",
    "    kg=kg,\n",
    ")\n",
    "\n",
    "\n",
    "linkInstances(\n",
    "    sub=URIRef(f\"{namespace}Autriche\"),\n",
    "    rel=hascapital,\n",
    "    obj=URIRef(f\"{namespace}Vienne\"),\n",
    "    kg=kg,\n",
    ")"
   ]
  },
  {
   "cell_type": "markdown",
   "id": "c184b6cb-a291-42de-8343-76a01f80abbf",
   "metadata": {
    "id": "c184b6cb-a291-42de-8343-76a01f80abbf"
   },
   "source": [
    "#### Mozart ArtWork"
   ]
  },
  {
   "cell_type": "code",
   "execution_count": null,
   "id": "163093e3-dc05-4610-9cce-72457d3f2ac6",
   "metadata": {
    "id": "163093e3-dc05-4610-9cce-72457d3f2ac6"
   },
   "outputs": [],
   "source": [
    "## Mozart ArtWork\n",
    "linkInstances(\n",
    "    sub=mozard,\n",
    "    rel=created,\n",
    "    obj=URIRef(f\"{namespace}LaFluteEnchantee\"),\n",
    "    kg=kg,\n",
    ")\n",
    "\n",
    "linkInstances(\n",
    "    sub=mozard,\n",
    "    rel=created,\n",
    "    obj=URIRef(f\"{namespace}Jupiter\"),\n",
    "    kg=kg,\n",
    ")\n",
    "\n",
    "\n",
    "jupyerparts = [\n",
    "    \"Allegro Vivace\",\n",
    "    \"Andante Cantabile\",\n",
    "    \"Menuetto\",\n",
    "    \"Molto Allegro\",\n",
    "]\n",
    "\n",
    "for part in jupyerparts:\n",
    "    part_formated = \"\".join(part.split(\" \"))\n",
    "    linkInstances(\n",
    "        sub=URIRef(f\"{namespace}Jupiter\"),\n",
    "        rel=hasPart,\n",
    "        obj=URIRef(f\"{namespace}{part_formated}\"),\n",
    "        kg=kg,\n",
    "    )\n",
    "\n",
    "\n",
    "linkInstances(\n",
    "    sub=URIRef(f\"{namespace}Jupiter\"),\n",
    "    rel=direct_by,\n",
    "    obj=URIRef(f\"{namespace}ClaudioEbbado\"),\n",
    "    kg=kg,\n",
    ")"
   ]
  },
  {
   "cell_type": "markdown",
   "id": "6bc4bf6b-ccb1-450d-a259-0553289a0dd6",
   "metadata": {
    "id": "6bc4bf6b-ccb1-450d-a259-0553289a0dd6"
   },
   "source": [
    "## Saving"
   ]
  },
  {
   "cell_type": "code",
   "execution_count": null,
   "id": "1d587404-6560-44ad-abfe-5a2d8f69188a",
   "metadata": {
    "id": "1d587404-6560-44ad-abfe-5a2d8f69188a",
    "outputId": "86742c08-5b9d-4d4e-cfee-8909017fd4df"
   },
   "outputs": [
    {
     "data": {
      "text/plain": [
       "<Graph identifier=Nc85f25a65d2341fe9abe0d23f78d8719 (<class 'rdflib.graph.Graph'>)>"
      ]
     },
     "execution_count": 14,
     "metadata": {},
     "output_type": "execute_result"
    }
   ],
   "source": [
    "kg.serialize(destination=\"myKG.ttl\", format=\"turtle\")\n",
    "kg.serialize(destination=\"myKG.rdf\", format=\"pretty-xml\")\n",
    "kg.serialize(destination=\"myKG.n3\", format=\"n3\")"
   ]
  },
  {
   "cell_type": "markdown",
   "id": "a951dd08-724e-48c1-8a26-86ea9e9b5244",
   "metadata": {
    "id": "a951dd08-724e-48c1-8a26-86ea9e9b5244"
   },
   "source": [
    "### VIsualisation"
   ]
  },
  {
   "cell_type": "code",
   "execution_count": null,
   "id": "45df5ea5-f021-4b22-b495-b38653d9fb96",
   "metadata": {
    "id": "45df5ea5-f021-4b22-b495-b38653d9fb96",
    "outputId": "1a1be591-4661-4c9c-d86f-11c5690d9180"
   },
   "outputs": [
    {
     "data": {
      "text/plain": [
       "{'http://mygraph.com/AllegroVivace': 'http://dbpedia.org/ontology/Artwork',\n",
       " 'http://mygraph.com/LaFluteEnchantee': 'http://dbpedia.org/ontology/Artwork',\n",
       " 'http://mygraph.com/Londres': 'http://dbpedia.org/ontology/Town',\n",
       " 'http://mygraph.com/Menuetto': 'http://dbpedia.org/ontology/Artwork',\n",
       " 'http://mygraph.com/AndanteCantabile': 'http://dbpedia.org/ontology/Artwork',\n",
       " 'http://mygraph.com/Jupiter': 'http://dbpedia.org/ontology/Artwork',\n",
       " 'http://mygraph.com/Salzbourg': 'http://dbpedia.org/ontology/Town',\n",
       " 'http://mygraph.com/Autriche': 'http://dbpedia.org/ontology/Country',\n",
       " 'http://mygraph.com/MoltoAllegro': 'http://dbpedia.org/ontology/Artwork',\n",
       " 'http://mygraph.com/Vienne': 'http://dbpedia.org/ontology/Town'}"
      ]
     },
     "execution_count": 15,
     "metadata": {},
     "output_type": "execute_result"
    }
   ],
   "source": [
    "dico_typing = dict()\n",
    "for subj, pred, obj in kg:\n",
    "    if \"type\" in pred:\n",
    "        dico_typing[str(subj)] = str(obj)\n",
    "\n",
    "dico_typing"
   ]
  },
  {
   "cell_type": "code",
   "execution_count": null,
   "id": "cb232dd9-4b08-43b5-b951-0dc851c94008",
   "metadata": {
    "id": "cb232dd9-4b08-43b5-b951-0dc851c94008"
   },
   "outputs": [],
   "source": [
    "instances_colors = {\n",
    "    f\"{namespace}Londres\": \"cyan\",\n",
    "    f\"{namespace}Autriche\": \"yellow\",\n",
    "    f\"{namespace}WolfgangAmadeusMozart\": \"red\",\n",
    "    f\"{namespace}Menuetto\": \"pink\",\n",
    "    f\"{namespace}AllegroVivace\": \"pink\",\n",
    "    f\"{namespace}MoltoAllegro\": \"pink\",\n",
    "    f\"{namespace}AndanteCantabile\": \"pink\",\n",
    "    f\"{namespace}Salzbourg\": \"cyan\",\n",
    "    f\"{namespace}LeopoldMozart\": \"green\",\n",
    "    f\"{namespace}LaFluteEnchantee\": \"pink\",\n",
    "    f\"{namespace}Vienne\": \"cyan\",\n",
    "    f\"{namespace}ClaudioEbbado\": \"green\",\n",
    "    f\"{namespace}ConstanceWeber\": \"green\",\n",
    "    f\"{namespace}Jupiter\": \"pink\",\n",
    "    f\"{dbpedia}Town\": \"cyan\",\n",
    "    f\"{kzk}music#Composer\": \"#ff7f0e\",\n",
    "    f\"{foaf}Person\": \"green\",\n",
    "    f\"{dbpedia}Artwork\": \"pink\",\n",
    "    f\"{dbpedia}Country\": \"purple\",\n",
    "}"
   ]
  },
  {
   "cell_type": "code",
   "execution_count": null,
   "id": "45f02730-8374-4c6b-9405-c4e136f64757",
   "metadata": {
    "id": "45f02730-8374-4c6b-9405-c4e136f64757",
    "scrolled": true
   },
   "outputs": [],
   "source": [
    "nodes_set = set()\n",
    "edges_set = set()\n",
    "for subj, pred, obj in kg:\n",
    "    nodes_set.add(str(obj))\n",
    "    nodes_set.add(str(subj))\n",
    "    edges_set.add(tuple([str(subj), str(pred), str(obj)]))"
   ]
  },
  {
   "cell_type": "code",
   "execution_count": null,
   "id": "7ae53018-0f06-4356-97c4-df27328460b6",
   "metadata": {
    "id": "7ae53018-0f06-4356-97c4-df27328460b6"
   },
   "outputs": [],
   "source": [
    "from pyvis.network import Network"
   ]
  },
  {
   "cell_type": "code",
   "execution_count": null,
   "id": "b48730c7-4681-42fa-b8c0-b2b230ff5918",
   "metadata": {
    "id": "b48730c7-4681-42fa-b8c0-b2b230ff5918",
    "outputId": "28e1e524-dab3-4739-f9b9-fc0b0348bf06"
   },
   "outputs": [
    {
     "name": "stdout",
     "output_type": "stream",
     "text": [
      "myKG.html\n"
     ]
    },
    {
     "data": {
      "text/html": [
       "\n",
       "        <iframe\n",
       "            width=\"100%\"\n",
       "            height=\"600px\"\n",
       "            src=\"myKG.html\"\n",
       "            frameborder=\"0\"\n",
       "            allowfullscreen\n",
       "            \n",
       "        ></iframe>\n",
       "        "
      ],
      "text/plain": [
       "<IPython.lib.display.IFrame at 0x7e607555cc70>"
      ]
     },
     "execution_count": 20,
     "metadata": {},
     "output_type": "execute_result"
    }
   ],
   "source": [
    "kgNet = Network(\n",
    "    height=\"600px\",\n",
    "    width=\"100%\",\n",
    "    notebook=True,\n",
    "    directed=True,\n",
    "    neighborhood_highlight=True,\n",
    "    # layout=\"forceAtlas2Based\",\n",
    "    cdn_resources=\"remote\",\n",
    ")\n",
    "\n",
    "# kgNet.add_nodes(nodes_set)\n",
    "for node in nodes_set:\n",
    "\n",
    "    kgNet.add_node(\n",
    "        n_id=node.replace(namespace, \"ex:\")\n",
    "        .replace(dbpedia, \"dbpedia:\")\n",
    "        .replace(foaf, \"foaf:\")\n",
    "        .replace(schema, \"schema:\")\n",
    "        .replace(kzk, \"kzk\"),\n",
    "        color=instances_colors[node] if node in instances_colors.keys() else \"#97c2fc\",\n",
    "    )\n",
    "\n",
    "for edge in edges_set:\n",
    "    kgNet.add_edge(\n",
    "        source=edge[0]\n",
    "        .replace(namespace, \"ex:\")\n",
    "        .replace(dbpedia, \"dbpedia:\")\n",
    "        .replace(foaf, \"foaf:\")\n",
    "        .replace(schema, \"schema:\")\n",
    "        .replace(kzk, \"kzk\"),\n",
    "        to=edge[2]\n",
    "        .replace(namespace, \"ex:\")\n",
    "        .replace(dbpedia, \"dbpedia:\")\n",
    "        .replace(foaf, \"foaf:\")\n",
    "        .replace(schema, \"schema:\")\n",
    "        .replace(kzk, \"kzk\"),\n",
    "        label=edge[1].split(\"#\")[-1].split(\"/\")[-1],\n",
    "    )\n",
    "\n",
    "kgNet.show_buttons(filter_=[\"physics\"])\n",
    "kgNet.show(\"myKG.html\")"
   ]
  },
  {
   "cell_type": "code",
   "execution_count": null,
   "id": "b33f809f-c9ee-4424-a452-17e57dd72ff0",
   "metadata": {
    "id": "b33f809f-c9ee-4424-a452-17e57dd72ff0"
   },
   "outputs": [],
   "source": []
  },
  {
   "cell_type": "code",
   "execution_count": null,
   "id": "ef8c6a6f-f3ce-4d25-9e53-f7ddc4830814",
   "metadata": {
    "id": "ef8c6a6f-f3ce-4d25-9e53-f7ddc4830814"
   },
   "outputs": [],
   "source": []
  }
 ],
 "metadata": {
  "colab": {
   "provenance": []
  },
  "kernelspec": {
   "display_name": "Python 3 (ipykernel)",
   "language": "python",
   "name": "python3"
  },
  "language_info": {
   "codemirror_mode": {
    "name": "ipython",
    "version": 3
   },
   "file_extension": ".py",
   "mimetype": "text/x-python",
   "name": "python",
   "nbconvert_exporter": "python",
   "pygments_lexer": "ipython3",
   "version": "3.10.12"
  }
 },
 "nbformat": 4,
 "nbformat_minor": 5
}
